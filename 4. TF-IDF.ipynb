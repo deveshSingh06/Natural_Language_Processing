{
  "nbformat": 4,
  "nbformat_minor": 0,
  "metadata": {
    "kernelspec": {
      "display_name": "Python [conda env:Anaconda3]",
      "language": "python",
      "name": "conda-env-Anaconda3-py"
    },
    "language_info": {
      "codemirror_mode": {
        "name": "ipython",
        "version": 3
      },
      "file_extension": ".py",
      "mimetype": "text/x-python",
      "name": "python",
      "nbconvert_exporter": "python",
      "pygments_lexer": "ipython3",
      "version": "3.6.6"
    },
    "colab": {
      "name": "4. TF-IDF.ipynb",
      "provenance": []
    }
  },
  "cells": [
    {
      "cell_type": "markdown",
      "metadata": {
        "id": "lVqkNbtWF4Kw"
      },
      "source": [
        "# TF(Term Frequency)"
      ]
    },
    {
      "cell_type": "markdown",
      "metadata": {
        "id": "Znf7QSiEF4Kz"
      },
      "source": [
        "- It is defined for a word w<sub>i</sub> in a **document d<sub>i</sub>**.\n",
        "- It is defined as:\n",
        "\n",
        "> $$\\text{TF}(w_i, d_i) = \\frac{\\text{Number of occurrences of the word } w_i}{\\text{Total number of words in the document } d_i}$$"
      ]
    },
    {
      "cell_type": "markdown",
      "metadata": {
        "id": "s9LdT8R6F4K1"
      },
      "source": [
        "- Term frequency of a word w<sub>i</sub> in a document d<sub>i</sub> lies between 0 and 1, i.e \n",
        "> 0 <= TF(w<sub>i</sub>, d<sub>i</sub>) <= 1"
      ]
    },
    {
      "cell_type": "markdown",
      "metadata": {
        "id": "W2T88WdeF4K2"
      },
      "source": [
        "- Since TF(w<sub>i</sub>, d<sub>i</sub>) lies between 0 and 1, it can be thought of as the probability of the word w<sub>i</sub> in document d<sub>i</sub>."
      ]
    },
    {
      "cell_type": "markdown",
      "metadata": {
        "id": "yMY059y8F4K3"
      },
      "source": [
        "# IDF(Inverse Document Frequency)"
      ]
    },
    {
      "cell_type": "markdown",
      "metadata": {
        "id": "mpBS3eizF4K5"
      },
      "source": [
        "- It is defined for a word w<sub>i</sub> in the **document corpus D<sub>c</sub>**.\n",
        "- It is defined as:\n",
        "\n",
        "> $$\\text{IDF}(w_i, D_c) = \\log{\\frac{N}{n_i}}$$\n",
        "<center>where N = Total number of documents</center>\n",
        "\n",
        "<center>$n_{i}$ = Number of documents in which the word w<sub>i</sub> occurs</center>"
      ]
    },
    {
      "cell_type": "markdown",
      "metadata": {
        "id": "uK-ye9kgF4K6"
      },
      "source": [
        "- Since $n_{i}$ <= N (always), this implies $\\frac{N}{n_{i}}$ >= 1 (always). Hence, \n",
        "> $$\\text{IDF}(w_i, D_c) = \\log{\\frac{N}{n_i} >= 0 \\text{ (Always)}}$$"
      ]
    },
    {
      "cell_type": "markdown",
      "metadata": {
        "id": "dG2QpkxAF4K8"
      },
      "source": [
        "- From the above relations we can see that **if $n_{i}$ increases, IDF decreases and vice-versa**.\n",
        "- That means if the word $w_{i}$ is more frequent, IDF will be small and if the word $w_{i}$ is rare then IDF will be large."
      ]
    },
    {
      "cell_type": "markdown",
      "metadata": {
        "id": "CJtwk7ymF4K-"
      },
      "source": [
        "# TF-IDF"
      ]
    },
    {
      "cell_type": "markdown",
      "metadata": {
        "id": "nnfhfFzPF4K_"
      },
      "source": [
        "- In this scheme, the value of any dimension of the vector $v_{i}$, corresponding to a document $d_{i}$, is calculated as:\n",
        "\n",
        "> $$\\text{TF}(w_i, d_i)*\\text{IDF}(w_i, D_c)$$\n",
        "\n",
        "- Usage example: Let there be 6 dimensions in a vector $v_{i}$ and every dimension represents a unique word as depicted below:\n",
        "\n",
        "| w<sub>1</sub> |  w<sub>2</sub>  |  w<sub>3</sub>  | w<sub>4</sub>  | w<sub>5</sub>  |w<sub>6</sub>  |\n",
        "| --- |--- | --- | --- |--- |--- |\n",
        "|  |  |  |  |  |  |  |\n",
        "\n",
        "- Then the value of the dimension corresponding to, say w<sub>4</sub>, is calculated as:\n",
        "\n",
        "$$\\text{TF}(w_4, d_i)*\\text{IDF}(w_4, D_c)$$"
      ]
    },
    {
      "cell_type": "markdown",
      "metadata": {
        "id": "f68xPt0UF4LA"
      },
      "source": [
        "- TF-IDF gives more **importance to rarer words** in the **document corpus** because of the presence of **IDF** in the formula.\n",
        "- Also, tf-idf gives more **importance to frequent words** in a **document** because of the presence of **TF** in the formula.\n",
        "- This scheme doesn't consider the semantic meaning of words. For example the words 'tasty' and 'delicious' will have different dimensions, though they are semantically same."
      ]
    },
    {
      "cell_type": "code",
      "metadata": {
        "id": "NscCR4vZF4LB"
      },
      "source": [
        ""
      ],
      "execution_count": null,
      "outputs": []
    }
  ]
}